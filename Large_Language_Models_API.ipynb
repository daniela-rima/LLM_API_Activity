{
 "cells": [
  {
   "cell_type": "code",
   "execution_count": 1,
   "id": "709ebe12",
   "metadata": {},
   "outputs": [],
   "source": [
    "import openai\n",
    "import os\n",
    "\n",
    "api_key = open(\"gpt_key.txt\", 'r').read().strip(\"\\n\")\n",
    "\n",
    "# load and set our key\n",
    "openai.api_key = api_key"
   ]
  },
  {
   "cell_type": "markdown",
   "id": "e7c85440",
   "metadata": {},
   "source": [
    "# Conversation Loop"
   ]
  },
  {
   "cell_type": "code",
   "execution_count": 4,
   "id": "d90675cd-823b-4c68-8bac-6d0149a72297",
   "metadata": {
    "id": "d90675cd-823b-4c68-8bac-6d0149a72297"
   },
   "outputs": [],
   "source": [
    "message_history=[{\"role\": \"system\", \"content\": \"You are a first grade teacher. Answer the questions as if it were to your students.\"}]\n",
    "\n",
    "def gpt_response(inp, message_history):\n",
    "    # We save the user's input\n",
    "    message_history.append({\"role\": \"user\", \"content\": f\"{inp}\"})\n",
    "\n",
    "    # Generate a response from the chatbot model\n",
    "    completion = openai.ChatCompletion.create(\n",
    "      model=\"gpt-3.5-turbo\",\n",
    "      messages=message_history\n",
    "    )\n",
    "\n",
    "    # We save the assistant response\n",
    "    message_history.append({\"role\": \"assistant\", \"content\": f\"{completion.choices[0].message.content}\"})\n",
    "\n",
    "    return message_history"
   ]
  },
  {
   "cell_type": "code",
   "execution_count": 13,
   "id": "4067df5b",
   "metadata": {
    "scrolled": true
   },
   "outputs": [
    {
     "data": {
      "text/plain": [
       "'while(True):\\n    message_history = gpt_response(input(\"> \"), message_history) # Lets ask by input different prompts\\n    print(message_history[-1][\"content\"]) # Print the last response'"
      ]
     },
     "execution_count": 13,
     "metadata": {},
     "output_type": "execute_result"
    }
   ],
   "source": [
    "\"\"\"while(True):\n",
    "    message_history = gpt_response(input(\"> \"), message_history) # Lets ask by input different prompts\n",
    "    print(message_history[-1][\"content\"]) # Print the last response\"\"\""
   ]
  },
  {
   "cell_type": "markdown",
   "id": "f7c94455",
   "metadata": {},
   "source": [
    "# ____________________________________________________________________"
   ]
  },
  {
   "cell_type": "markdown",
   "id": "7123f579",
   "metadata": {},
   "source": [
    "# Chatbot for Kids!"
   ]
  },
  {
   "cell_type": "markdown",
   "id": "b598ce05",
   "metadata": {},
   "source": [
    "Get creative and ask our bot your most creative questions."
   ]
  },
  {
   "cell_type": "code",
   "execution_count": 18,
   "id": "1b894cab",
   "metadata": {},
   "outputs": [],
   "source": [
    "# Set up the conversation history with user and assistant messages\n",
    "message_history = [{\"role\": \"system\", \"content\": f\"Respond my prompts as a first grade teacher to her/his students. Limit your responses to 50 words.\"},\n",
    "                   {\"role\": \"assistant\", \"content\": f\"OK\"}]\n",
    "\n",
    "def gpt_response_ui(inp):\n",
    "    global message_history\n",
    "\n",
    "    message_history = gpt_response(inp, message_history)\n",
    "\n",
    "    # Get pairs (as tuples) of msg[\"content\"] from message history,representing one exchange between the user and the chatbot, skipping the pre-prompt\n",
    "    response = [(message_history[i][\"content\"], message_history[i+1][\"content\"]) for i in range(2, len(message_history)-1, 2)]  # convert to tuples of list\n",
    "    return response"
   ]
  },
  {
   "cell_type": "code",
   "execution_count": 19,
   "id": "c9affde2",
   "metadata": {},
   "outputs": [],
   "source": [
    "with gr.Blocks() as demo: #creates a Gradio interface\n",
    "\n",
    "    chatbot = gr.Chatbot() #creates a chatbot instance\n",
    "\n",
    "    with gr.Row(): #creates a row within the Gradio interface to contain components\n",
    "        txt = gr.Textbox(show_label=False, placeholder=\"Enter text and press enter\") #text input field\n",
    "        # `show_label=False` parameter hides the label associated with the textbox\n",
    "\n",
    "    txt.submit(gpt_response_ui, txt, chatbot) #sets the submit action to the `gpt_response` function\n",
    "    txt.submit(lambda :\"\", None, txt) #this clears the textbox when the user submits their input"
   ]
  },
  {
   "cell_type": "code",
   "execution_count": 20,
   "id": "0d16bfb9",
   "metadata": {},
   "outputs": [
    {
     "name": "stdout",
     "output_type": "stream",
     "text": [
      "Running on local URL:  http://127.0.0.1:7863\n",
      "Running on public URL: https://933d2328fc193f4921.gradio.live\n",
      "\n",
      "This share link expires in 72 hours. For free permanent hosting and GPU upgrades, run `gradio deploy` from Terminal to deploy to Spaces (https://huggingface.co/spaces)\n"
     ]
    },
    {
     "data": {
      "text/html": [
       "<div><iframe src=\"https://933d2328fc193f4921.gradio.live\" width=\"100%\" height=\"500\" allow=\"autoplay; camera; microphone; clipboard-read; clipboard-write;\" frameborder=\"0\" allowfullscreen></iframe></div>"
      ],
      "text/plain": [
       "<IPython.core.display.HTML object>"
      ]
     },
     "metadata": {},
     "output_type": "display_data"
    },
    {
     "data": {
      "text/plain": []
     },
     "execution_count": 20,
     "metadata": {},
     "output_type": "execute_result"
    }
   ],
   "source": [
    "demo.launch(share=True) "
   ]
  },
  {
   "cell_type": "markdown",
   "id": "a0428739",
   "metadata": {},
   "source": [
    "[Presentation](https://docs.google.com/presentation/d/16nwqe8pY6M2yKVPq0k27j6A3UjRdU6aswWsYoXMsYtE/edit#slide=id.p)"
   ]
  },
  {
   "cell_type": "code",
   "execution_count": null,
   "id": "51893d11",
   "metadata": {},
   "outputs": [],
   "source": []
  }
 ],
 "metadata": {
  "kernelspec": {
   "display_name": "Python 3 (ipykernel)",
   "language": "python",
   "name": "python3"
  },
  "language_info": {
   "codemirror_mode": {
    "name": "ipython",
    "version": 3
   },
   "file_extension": ".py",
   "mimetype": "text/x-python",
   "name": "python",
   "nbconvert_exporter": "python",
   "pygments_lexer": "ipython3",
   "version": "3.11.7"
  }
 },
 "nbformat": 4,
 "nbformat_minor": 5
}
